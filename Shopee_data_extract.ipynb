{
 "cells": [
  {
   "cell_type": "code",
   "execution_count": 4,
   "metadata": {},
   "outputs": [
    {
     "name": "stdout",
     "output_type": "stream",
     "text": [
      "running\n",
      "   rating author_username  rating_star  \\\n",
      "0       1        sasinatt            5   \n",
      "1       1          dani_u            5   \n",
      "2       1         n*****n            5   \n",
      "3       1       tidajai.j            5   \n",
      "4       1          kann07            5   \n",
      "\n",
      "                                             comment  \n",
      "0  สินค้าคุณภาพดี ราคาเหมาะสม จัดโปรลดให้โค้ดลดรา...  \n",
      "1  (´∀｀)♡\\nกินมา7วัน ครั้งละ3เม็ด วันละ2ครั้งตอนท...  \n",
      "2  สินค้ามีคุณภาพดีมาก ราคาคุ้มค่ามากถูกกว่าซื่อท...  \n",
      "3  เป็นคอลาเจนที่เพื่อนแนะนำมา ก็เลยลองซื้อมาทานด...  \n",
      "4  ได้รับสินค้ารวดเร็วทุกครั้ง by JNT ราคาถูกกว่า...  \n",
      "done\n"
     ]
    },
    {
     "ename": "AttributeError",
     "evalue": "'DataFrame' object has no attribute 'DataType'",
     "output_type": "error",
     "traceback": [
      "\u001b[1;31m---------------------------------------------------------------------------\u001b[0m",
      "\u001b[1;31mAttributeError\u001b[0m                            Traceback (most recent call last)",
      "\u001b[1;32m<ipython-input-4-adee57a69669>\u001b[0m in \u001b[0;36m<module>\u001b[1;34m\u001b[0m\n\u001b[0;32m     32\u001b[0m \u001b[0mout\u001b[0m\u001b[1;33m.\u001b[0m\u001b[0mto_excel\u001b[0m\u001b[1;33m(\u001b[0m\u001b[1;34m\"shopee_data_link10.xlsx\"\u001b[0m\u001b[1;33m)\u001b[0m\u001b[1;33m\u001b[0m\u001b[1;33m\u001b[0m\u001b[0m\n\u001b[0;32m     33\u001b[0m \u001b[0mprint\u001b[0m\u001b[1;33m(\u001b[0m\u001b[1;34m\"done\"\u001b[0m\u001b[1;33m)\u001b[0m\u001b[1;33m\u001b[0m\u001b[1;33m\u001b[0m\u001b[0m\n\u001b[1;32m---> 34\u001b[1;33m \u001b[0mout\u001b[0m\u001b[1;33m.\u001b[0m\u001b[0mDataType\u001b[0m\u001b[1;33m\u001b[0m\u001b[1;33m\u001b[0m\u001b[0m\n\u001b[0m",
      "\u001b[1;32m~\\AppData\\Local\\Continuum\\anaconda3\\lib\\site-packages\\pandas\\core\\generic.py\u001b[0m in \u001b[0;36m__getattr__\u001b[1;34m(self, name)\u001b[0m\n\u001b[0;32m   5272\u001b[0m             \u001b[1;32mif\u001b[0m \u001b[0mself\u001b[0m\u001b[1;33m.\u001b[0m\u001b[0m_info_axis\u001b[0m\u001b[1;33m.\u001b[0m\u001b[0m_can_hold_identifiers_and_holds_name\u001b[0m\u001b[1;33m(\u001b[0m\u001b[0mname\u001b[0m\u001b[1;33m)\u001b[0m\u001b[1;33m:\u001b[0m\u001b[1;33m\u001b[0m\u001b[1;33m\u001b[0m\u001b[0m\n\u001b[0;32m   5273\u001b[0m                 \u001b[1;32mreturn\u001b[0m \u001b[0mself\u001b[0m\u001b[1;33m[\u001b[0m\u001b[0mname\u001b[0m\u001b[1;33m]\u001b[0m\u001b[1;33m\u001b[0m\u001b[1;33m\u001b[0m\u001b[0m\n\u001b[1;32m-> 5274\u001b[1;33m             \u001b[1;32mreturn\u001b[0m \u001b[0mobject\u001b[0m\u001b[1;33m.\u001b[0m\u001b[0m__getattribute__\u001b[0m\u001b[1;33m(\u001b[0m\u001b[0mself\u001b[0m\u001b[1;33m,\u001b[0m \u001b[0mname\u001b[0m\u001b[1;33m)\u001b[0m\u001b[1;33m\u001b[0m\u001b[1;33m\u001b[0m\u001b[0m\n\u001b[0m\u001b[0;32m   5275\u001b[0m \u001b[1;33m\u001b[0m\u001b[0m\n\u001b[0;32m   5276\u001b[0m     \u001b[1;32mdef\u001b[0m \u001b[0m__setattr__\u001b[0m\u001b[1;33m(\u001b[0m\u001b[0mself\u001b[0m\u001b[1;33m,\u001b[0m \u001b[0mname\u001b[0m\u001b[1;33m:\u001b[0m \u001b[0mstr\u001b[0m\u001b[1;33m,\u001b[0m \u001b[0mvalue\u001b[0m\u001b[1;33m)\u001b[0m \u001b[1;33m->\u001b[0m \u001b[1;32mNone\u001b[0m\u001b[1;33m:\u001b[0m\u001b[1;33m\u001b[0m\u001b[1;33m\u001b[0m\u001b[0m\n",
      "\u001b[1;31mAttributeError\u001b[0m: 'DataFrame' object has no attribute 'DataType'"
     ]
    }
   ],
   "source": [
    "#steps to use this code to extract data\n",
    "#right click on page and click on inspect\n",
    "#click on networks\n",
    "#Now, sroll down on webpage and go to reviews section\n",
    "# click on clear on Inspect box\n",
    "#click on page 2. A getratings request will be available on the inspect page\n",
    "# we can see the request url there looks like the url mentioned below\n",
    "# Request URL: https://shopee.co.th/api/v2/item/get_ratings?filter=0&flag=1&itemid=429677533&limit=6&offset=6&shopid=31436109&type=0\n",
    "#replace url in code with request url\n",
    "#similarly replace shopid and delete everething after limit=6 from URL\n",
    "\n",
    "\n",
    "page = 1\n",
    "\n",
    "import pandas as pd\n",
    "import requests \n",
    "out = pd.DataFrame()\n",
    "print(\"running\")\n",
    "for i in range (1,page+1) :\n",
    "    URL =\"https://shopee.co.th/api/v2/item/get_ratings?filter=0&flag=1&itemid=494840378&limit=6\"\n",
    "    offset=i*6\n",
    "    shopid=19827652\n",
    "    PARAMS = {'offset':offset,'shopid':shopid,'type':0}  \n",
    "    r = requests.get(url = URL, params = PARAMS) \n",
    "    data = r.json()\n",
    "    data=data['data']['ratings']\n",
    "    df=pd.DataFrame(data)\n",
    "    out =out.append(df)\n",
    "\n",
    "out.drop(['itemid','liked','mtime','anonymous','product_items','images','ctime','editable','editable_date','author_shopid','filter','like_count','opt','mentioned','delete_operator','delete_reason','shopid','show_reply','ItemRatingReply','is_hidden','author_portrait','cmtid','status','tags','userid','orderid'],axis=1,inplace=True)\n",
    "print(out.head())\n",
    "out.to_excel(\"shopee_data_link10.xlsx\")\n",
    "print(\"done\")"
   ]
  },
  {
   "cell_type": "code",
   "execution_count": null,
   "metadata": {},
   "outputs": [],
   "source": []
  }
 ],
 "metadata": {
  "kernelspec": {
   "display_name": "Python 3",
   "language": "python",
   "name": "python3"
  },
  "language_info": {
   "codemirror_mode": {
    "name": "ipython",
    "version": 3
   },
   "file_extension": ".py",
   "mimetype": "text/x-python",
   "name": "python",
   "nbconvert_exporter": "python",
   "pygments_lexer": "ipython3",
   "version": "3.7.4"
  }
 },
 "nbformat": 4,
 "nbformat_minor": 2
}
